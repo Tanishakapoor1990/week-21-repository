{
 "cells": [
  {
   "cell_type": "code",
   "execution_count": 29,
   "id": "4d067743",
   "metadata": {},
   "outputs": [
    {
     "data": {
      "text/plain": [
       "'’all  ,  ’ve    '"
      ]
     },
     "execution_count": 29,
     "metadata": {},
     "output_type": "execute_result"
    }
   ],
   "source": [
    "import re\n",
    "this_string=\"Y’all are amazing, and I’ve loved teaching this class\"\n",
    "pattern = r\"(?:^|(?<=\\s)|-)[A-Za-z'\\.]+(?=\\s|\\t|$|\\b)\"\n",
    "final_str = re.sub(pattern,'',this_string,flags=re.IGNORECASE)\n",
    "final_str"
   ]
  },
  {
   "cell_type": "code",
   "execution_count": 30,
   "id": "8663253b",
   "metadata": {},
   "outputs": [
    {
     "name": "stdout",
     "output_type": "stream",
     "text": [
      "[\"Y'all\", \"I've\"]\n"
     ]
    }
   ],
   "source": [
    "import re\n",
    "\n",
    "this_string=\"Y'all are amazing, and I've loved teaching this class\"\n",
    "\n",
    "apost=re.findall(\"[\\w]+'[\\w]+\", this_string)\n",
    "print(apost)\n"
   ]
  },
  {
   "cell_type": "code",
   "execution_count": null,
   "id": "38a5bf54",
   "metadata": {},
   "outputs": [],
   "source": []
  },
  {
   "cell_type": "code",
   "execution_count": null,
   "id": "7c8f68f3",
   "metadata": {},
   "outputs": [],
   "source": []
  },
  {
   "cell_type": "code",
   "execution_count": null,
   "id": "fab60fac",
   "metadata": {},
   "outputs": [],
   "source": []
  },
  {
   "cell_type": "code",
   "execution_count": null,
   "id": "4c5f9814",
   "metadata": {},
   "outputs": [],
   "source": []
  },
  {
   "cell_type": "code",
   "execution_count": null,
   "id": "3c99d90e",
   "metadata": {},
   "outputs": [],
   "source": []
  },
  {
   "cell_type": "code",
   "execution_count": null,
   "id": "328d0b95",
   "metadata": {},
   "outputs": [],
   "source": []
  },
  {
   "cell_type": "code",
   "execution_count": null,
   "id": "ccd2caaf",
   "metadata": {},
   "outputs": [],
   "source": []
  },
  {
   "cell_type": "code",
   "execution_count": null,
   "id": "4f842df8",
   "metadata": {},
   "outputs": [],
   "source": []
  },
  {
   "cell_type": "code",
   "execution_count": null,
   "id": "8e393ce7",
   "metadata": {},
   "outputs": [],
   "source": []
  },
  {
   "cell_type": "code",
   "execution_count": 18,
   "id": "49e93d31",
   "metadata": {},
   "outputs": [
    {
     "data": {
      "text/plain": [
       "['Y',\n",
       " 'all',\n",
       " 'are',\n",
       " 'amazing',\n",
       " 'and',\n",
       " 'I',\n",
       " 've',\n",
       " 'loved',\n",
       " 'teaching',\n",
       " 'this',\n",
       " 'class']"
      ]
     },
     "execution_count": 18,
     "metadata": {},
     "output_type": "execute_result"
    }
   ],
   "source": [
    "text = \"Y’all are amazing, and I’ve loved teaching this class\"\n",
    "#re.findall('\\\\bf\\w+\\\\b', text)\n",
    "re.findall(\"[a-zA-Z]+\\'?\", text)"
   ]
  },
  {
   "cell_type": "code",
   "execution_count": 14,
   "id": "45b23bba",
   "metadata": {},
   "outputs": [
    {
     "ename": "SyntaxError",
     "evalue": "unexpected character after line continuation character (<ipython-input-14-5ad6b6ab593e>, line 3)",
     "output_type": "error",
     "traceback": [
      "\u001b[1;36m  File \u001b[1;32m\"<ipython-input-14-5ad6b6ab593e>\"\u001b[1;36m, line \u001b[1;32m3\u001b[0m\n\u001b[1;33m    re.findall(\\w+'\\w+),\"Y’all are amazing, and I’ve loved teaching this class\")\u001b[0m\n\u001b[1;37m                                                                                ^\u001b[0m\n\u001b[1;31mSyntaxError\u001b[0m\u001b[1;31m:\u001b[0m unexpected character after line continuation character\n"
     ]
    }
   ],
   "source": [
    "#text = \"Y’all are amazing, and I’ve loved teaching this class\"\n",
    "import re\n",
    "re.findall(\"[\\w]+'[\\w]+\",\"Y’all are amazing, and I’ve loved teaching this class\")"
   ]
  },
  {
   "cell_type": "code",
   "execution_count": null,
   "id": "03213792",
   "metadata": {},
   "outputs": [],
   "source": []
  }
 ],
 "metadata": {
  "kernelspec": {
   "display_name": "Python 3",
   "language": "python",
   "name": "python3"
  },
  "language_info": {
   "codemirror_mode": {
    "name": "ipython",
    "version": 3
   },
   "file_extension": ".py",
   "mimetype": "text/x-python",
   "name": "python",
   "nbconvert_exporter": "python",
   "pygments_lexer": "ipython3",
   "version": "3.8.9"
  }
 },
 "nbformat": 4,
 "nbformat_minor": 5
}
